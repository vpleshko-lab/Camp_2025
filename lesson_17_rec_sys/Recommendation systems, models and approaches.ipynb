{
 "cells": [
  {
   "cell_type": "markdown",
   "metadata": {},
   "source": [
    "# Recommendation systems, models and approaches\n",
    "\n",
    "### Lec 2:\n",
    "\n",
    "\n",
    "1. ALS & PySpark\n",
    "2. Attention models - STAMP\n",
    "   1. Real-life examples\n",
    "3. Transformers\n",
    "4. Other approaches"
   ]
  },
  {
   "cell_type": "markdown",
   "metadata": {},
   "source": [
    "# ALS\n",
    "\n",
    "https://towardsdatascience.com/prototyping-a-recommender-system-step-by-step-part-2-alternating-least-square-als-matrix-4a76c58714a1"
   ]
  },
  {
   "cell_type": "markdown",
   "metadata": {},
   "source": [
    "# STAMP\n",
    "\n",
    "https://dl.acm.org/doi/pdf/10.1145/3219819.3219950\n",
    "\n",
    "https://github.com/uestcnlp/STAMP"
   ]
  },
  {
   "cell_type": "markdown",
   "metadata": {},
   "source": [
    "# Transformers for recommendations\n",
    "\n",
    "https://github.com/NVIDIA-Merlin/Transformers4Rec/tree/main/examples\n",
    "\n",
    "How it works:\n",
    "\n",
    "1. Analyzing Sentences (NLP Example)\n",
    "\n",
    "Input Sequence (Words): [The, cat, sat, on, the]\n",
    "\n",
    "Transformer Processing: The model reads this sequence, understanding that \"cat\" is the subject, \"sat\" is the verb, and \"on the\" relates to location. It figures out the context. [The, cat, sat, on, the] -> Transformer -> Contextual Understanding\n",
    "\n",
    "Predicting the Next Word: Based on the context, it predicts probabilities for the next word:\n",
    "\n",
    "- mat: 60% probability\n",
    "- rug: 30% probability\n",
    "- chair: 5% probability\n",
    "- sky: <1% probability (doesn't fit the context)\n",
    "\n",
    "1. Analyzing User Sessions (Recommendation Example)\n",
    "\n",
    "Input Sequence (Items interacted with): [Laptop, Mouse, Keyboard]\n",
    "\n",
    "Transformer Processing: The model reads this sequence, understanding the user is likely setting up a workstation or buying related computer peripherals. It figures out the 'session context'. [Laptop, Mouse, Keyboard] -> Transformer -> Session Context Understanding\n",
    "\n",
    "Predicting the Next Item: Based on this session context, it predicts probabilities for the next item the user might want:\n",
    "\n",
    "- Webcam: 50% probability\n",
    "- Monitor: 40% probability\n",
    "- USB Hub: 8% probability\n",
    "- Shoes: <1% probability (doesn't fit the context)"
   ]
  },
  {
   "cell_type": "markdown",
   "metadata": {},
   "source": [
    "# Knowledge graph embedding\n",
    "\n",
    "https://arxiv.org/pdf/2306.12680.pdf\n",
    "\n",
    "https://towardsdatascience.com/introduction-to-knowledge-graph-based-recommender-systems-34254efd1960/\n",
    "\n",
    "https://medium.com/@sheikh.sahil12299/recommendation-system-using-knowledge-graphs-and-machine-learning-4060c6677f8b"
   ]
  },
  {
   "cell_type": "markdown",
   "metadata": {},
   "source": [
    "<p align=\"center\">\n",
    "    <img src=\"./images/KnowledgeGraph.webp\" width=1200>\n",
    "</p>\n",
    "\n",
    "\n",
    "<p align=\"center\">\n",
    "    <img src=\"./images/KnowledgeGraphRecommender.png\" width=1200>\n",
    "</p>\n",
    "\n",
    "\n",
    "<p align=\"center\">\n",
    "    <img src=\"./images/KnowledgeGraphEmbeddings.webp\" width=1200>\n",
    "</p>"
   ]
  },
  {
   "cell_type": "markdown",
   "metadata": {},
   "source": [
    "# Contextual recommendations\n",
    "\n",
    "<p align=\"center\">\n",
    "    <img src=\"./images/contextual.webp\" width=1200>\n",
    "</p>"
   ]
  }
 ],
 "metadata": {
  "language_info": {
   "name": "python"
  },
  "orig_nbformat": 4
 },
 "nbformat": 4,
 "nbformat_minor": 2
}
